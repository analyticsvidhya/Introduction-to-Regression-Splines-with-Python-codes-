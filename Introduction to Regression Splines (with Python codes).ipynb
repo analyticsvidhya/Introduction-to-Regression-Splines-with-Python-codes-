{
 "cells": [
  {
   "cell_type": "code",
   "execution_count": null,
   "metadata": {},
   "outputs": [],
   "source": [
    "# import modules\n",
    "import pandas as pd\n",
    "import numpy as np\n",
    "import statsmodels.api as sm\n",
    "import matplotlib.pyplot as plt \n",
    "%matplotlib inline\n",
    "\n",
    "# read data_set\n",
    "data = pd.read_csv(\"Wage.csv\")\n",
    "\n",
    "data.head()"
   ]
  },
  {
   "cell_type": "code",
   "execution_count": null,
   "metadata": {},
   "outputs": [],
   "source": [
    "data_x = data['age']\n",
    "data_y = data['wage']\n",
    "\n",
    "# Dividing data into train and validation datasets\n",
    "from sklearn.model_selection import train_test_split\n",
    "train_x, valid_x, train_y, valid_y = train_test_split(data_x, data_y, test_size=0.33, random_state = 1)\n",
    "\n",
    "# Visualize the relationship b/w age and wage\n",
    "import matplotlib.pyplot as plt\n",
    "plt.scatter(train_x, train_y, facecolor='None', edgecolor='k', alpha=0.3)\n",
    "plt.show()"
   ]
  },
  {
   "cell_type": "code",
   "execution_count": null,
   "metadata": {},
   "outputs": [],
   "source": [
    "from sklearn.linear_model import LinearRegression\n",
    "\n",
    "# Fitting linear regression model\n",
    "x = train_x.reshape(-1,1)\n",
    "model = LinearRegression()\n",
    "model.fit(x,train_y)\n",
    "print(model.coef_)\n",
    "print(model.intercept_)"
   ]
  },
  {
   "cell_type": "code",
   "execution_count": null,
   "metadata": {},
   "outputs": [],
   "source": [
    "# Prediction on validation dataset\n",
    "valid_x = valid_x.reshape(-1,1)\n",
    "pred = model.predict(valid_x)\n",
    "\n",
    "# Visualisation\n",
    "# We will use 70 plots between minimum and maximum values of valid_x for plotting\n",
    "xp = np.linspace(valid_x.min(),valid_x.max(),70)\n",
    "xp = xp.reshape(-1,1)\n",
    "pred_plot = model.predict(xp)\n",
    "\n",
    "plt.scatter(valid_x, valid_y, facecolor='None', edgecolor='k', alpha=0.3)\n",
    "plt.plot(xp, pred_plot)\n",
    "plt.show()"
   ]
  },
  {
   "cell_type": "code",
   "execution_count": null,
   "metadata": {},
   "outputs": [],
   "source": [
    "from sklearn.metrics import mean_squared_error\n",
    "from math import sqrt\n",
    "\n",
    "rms = sqrt(mean_squared_error(valid_y, pred))\n",
    "print(rms)"
   ]
  },
  {
   "cell_type": "code",
   "execution_count": null,
   "metadata": {},
   "outputs": [],
   "source": [
    "# Generating weights for polynomial function with degree =2\n",
    "weights = np.polyfit(train_x, train_y, 2)\n",
    "print(weights)\n",
    "-> array([ -0.05194765,   5.22868974, -10.03406116])\n",
    "\n",
    "# Generating model with the given weights\n",
    "model = np.poly1d(weights)\n",
    "\n",
    "# Prediction on validation set\n",
    "pred = model(valid_x)\n",
    "# We will plot the graph for 70 observations only\n",
    "xp = np.linspace(valid_x.min(),valid_x.max(),70)\n",
    "pred_plot = model(xp)\n",
    "plt.scatter(valid_x, valid_y, facecolor='None', edgecolor='k', alpha=0.3)\n",
    "plt.plot(xp, pred_plot)\n",
    "plt.show()"
   ]
  },
  {
   "cell_type": "code",
   "execution_count": null,
   "metadata": {},
   "outputs": [],
   "source": [
    "# Dividing the data into 4 bins\n",
    "df_cut, bins = pd.cut(train_x, 4, retbins=True, right=True)\n",
    "df_cut.value_counts(sort=False)"
   ]
  },
  {
   "cell_type": "code",
   "execution_count": null,
   "metadata": {},
   "outputs": [],
   "source": [
    "df_steps = pd.concat([train_x, df_cut, train_y], keys=['age','age_cuts','wage'], axis=1)\n",
    "\n",
    "# Create dummy variables for the age groups\n",
    "df_steps_dummies = pd.get_dummies(df_cut)\n",
    "df_steps_dummies.head()"
   ]
  },
  {
   "cell_type": "code",
   "execution_count": null,
   "metadata": {},
   "outputs": [],
   "source": [
    "\n",
    "df_steps_dummies.columns = ['17.938-33.5','33.5-49','49-64.5','64.5-80'] \n",
    "\n",
    "# Fitting Generalised linear models\n",
    "fit3 = sm.GLM(df_steps.wage, df_steps_dummies).fit()\n",
    "\n",
    "# Binning validation set into same 4 bins\n",
    "bin_mapping = np.digitize(valid_x, bins) \n",
    "X_valid = pd.get_dummies(bin_mapping)\n",
    "\n",
    "# Removing any outliers\n",
    "X_valid = pd.get_dummies(bin_mapping).drop([5], axis=1)\n",
    "\n",
    "# Prediction\n",
    "pred2 = fit3.predict(X_valid)\n",
    "\n",
    "# Calculating RMSE\n",
    "from sklearn.metrics import mean_squared_error \n",
    "from math import sqrt \n",
    "rms = sqrt(mean_squared_error(valid_y, pred2)) \n",
    "print(rms) "
   ]
  },
  {
   "cell_type": "code",
   "execution_count": null,
   "metadata": {},
   "outputs": [],
   "source": [
    "# We will plot the graph for 70 observations only\n",
    "xp = np.linspace(valid_x.min(),valid_x.max()-1,70) \n",
    "bin_mapping = np.digitize(xp, bins) \n",
    "X_valid_2 = pd.get_dummies(bin_mapping) \n",
    "pred2 = fit3.predict(X_valid_2)"
   ]
  },
  {
   "cell_type": "code",
   "execution_count": null,
   "metadata": {},
   "outputs": [],
   "source": [
    "# Visualisation\n",
    "fig, (ax1) = plt.subplots(1,1, figsize=(12,5))\n",
    "fig.suptitle('Piecewise Constant', fontsize=14)\n",
    "\n",
    "# Scatter plot with polynomial regression line\n",
    "ax1.scatter(train_x, train_y, facecolor='None', edgecolor='k', alpha=0.3)\n",
    "ax1.plot(xp, pred2, c='b')\n",
    "\n",
    "ax1.set_xlabel('age')\n",
    "ax1.set_ylabel('wage')\n",
    "plt.show()"
   ]
  },
  {
   "cell_type": "code",
   "execution_count": null,
   "metadata": {},
   "outputs": [],
   "source": [
    "from patsy import dmatrix\n",
    "import statsmodels.api as sm\n",
    "import statsmodels.formula.api as smf\n",
    "\n",
    "# Generating cubic spline with 3 knots at 25, 40 and 60\n",
    "transformed_x = dmatrix(\"bs(train, knots=(25,40,60), degree=3, include_intercept=False)\", {\"train\": train_x},return_type='dataframe')\n",
    "\n",
    "# Fitting Generalised linear model on transformed dataset\n",
    "fit1 = sm.GLM(train_y, transformed_x).fit()\n",
    "\n",
    "# Generating cubic spline with 4 knots\n",
    "transformed_x2 = dmatrix(\"bs(train, knots=(25,40,50,65),degree =3, include_intercept=False)\", {\"train\": train_x}, return_type='dataframe')\n",
    "\n",
    "# Fitting Generalised linear model on transformed dataset\n",
    "fit2 = sm.GLM(train_y, transformed_x2).fit()\n",
    "\n",
    "# Predictions on both splines\n",
    "pred1 = fit1.predict(dmatrix(\"bs(valid, knots=(25,40,60), include_intercept=False)\", {\"valid\": valid_x}, return_type='dataframe'))\n",
    "pred2 = fit2.predict(dmatrix(\"bs(valid, knots=(25,40,50,65),degree =3, include_intercept=False)\", {\"valid\": valid_x}, return_type='dataframe'))\n",
    "\n",
    "# Calculating RMSE values\n",
    "rms1 = sqrt(mean_squared_error(valid_y, pred1))\n",
    "print(rms1)"
   ]
  },
  {
   "cell_type": "code",
   "execution_count": null,
   "metadata": {},
   "outputs": [],
   "source": [
    "rms2 = sqrt(mean_squared_error(valid_y, pred2))\n",
    "print(rms2)"
   ]
  },
  {
   "cell_type": "code",
   "execution_count": null,
   "metadata": {},
   "outputs": [],
   "source": [
    "# We will plot the graph for 70 observations only\n",
    "xp = np.linspace(valid_x.min(),valid_x.max(),70)\n",
    "\n",
    "# Make some predictions\n",
    "pred1 = fit1.predict(dmatrix(\"bs(xp, knots=(25,40,60), include_intercept=False)\", {\"xp\": xp}, return_type='dataframe'))\n",
    "pred2 = fit2.predict(dmatrix(\"bs(xp, knots=(25,40,50,65),degree =3, include_intercept=False)\", {\"xp\": xp}, return_type='dataframe'))\n",
    "\n",
    "# Plot the splines and error bands\n",
    "plt.scatter(data.age, data.wage, facecolor='None', edgecolor='k', alpha=0.1)\n",
    "plt.plot(xp, pred1, label='Specifying degree =3 with 3 knots')\n",
    "plt.plot(xp, pred2, color='r', label='Specifying degree =3 with 4 knots')\n",
    "plt.legend()\n",
    "plt.xlim(15,85)\n",
    "plt.ylim(0,350)\n",
    "plt.xlabel('age')\n",
    "plt.ylabel('wage')\n",
    "plt.show()"
   ]
  },
  {
   "cell_type": "code",
   "execution_count": null,
   "metadata": {},
   "outputs": [],
   "source": [
    "\n",
    "# Generating natural cubic spline\n",
    "transformed_x3 = dmatrix(\"cr(train,df = 3)\", {\"train\": train_x}, return_type='dataframe')\n",
    "fit3 = sm.GLM(train_y, transformed_x3).fit()\n",
    "\n",
    "# Prediction on validation set\n",
    "pred3 = fit3.predict(dmatrix(\"cr(valid, df=3)\", {\"valid\": valid_x}, return_type='dataframe'))\n",
    "# Calculating RMSE value\n",
    "rms = sqrt(mean_squared_error(valid_y, pred3))\n",
    "print(rms)"
   ]
  },
  {
   "cell_type": "code",
   "execution_count": null,
   "metadata": {},
   "outputs": [],
   "source": [
    "\n",
    "# We will plot the graph for 70 observations only\n",
    "xp = np.linspace(valid_x.min(),valid_x.max(),70)\n",
    "pred3 = fit3.predict(dmatrix(\"cr(xp, df=3)\", {\"xp\": xp}, return_type='dataframe'))\n",
    "\n",
    "# Plot the spline\n",
    "plt.scatter(data.age, data.wage, facecolor='None', edgecolor='k', alpha=0.1)\n",
    "plt.plot(xp, pred3,color='g', label='Natural spline')\n",
    "plt.legend()\n",
    "plt.xlim(15,85)\n",
    "plt.ylim(0,350)\n",
    "plt.xlabel('age')\n",
    "plt.ylabel('wage')\n",
    "plt.show()"
   ]
  },
  {
   "cell_type": "code",
   "execution_count": null,
   "metadata": {},
   "outputs": [],
   "source": []
  },
  {
   "cell_type": "code",
   "execution_count": null,
   "metadata": {},
   "outputs": [],
   "source": []
  }
 ],
 "metadata": {
  "kernelspec": {
   "display_name": "Python 3",
   "language": "python",
   "name": "python3"
  },
  "language_info": {
   "codemirror_mode": {
    "name": "ipython",
    "version": 3
   },
   "file_extension": ".py",
   "mimetype": "text/x-python",
   "name": "python",
   "nbconvert_exporter": "python",
   "pygments_lexer": "ipython3",
   "version": "3.7.3"
  }
 },
 "nbformat": 4,
 "nbformat_minor": 2
}
